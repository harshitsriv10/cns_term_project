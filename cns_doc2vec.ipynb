{
  "nbformat": 4,
  "nbformat_minor": 0,
  "metadata": {
    "colab": {
      "name": "cns_doc2vec.ipynb",
      "provenance": [],
      "collapsed_sections": []
    },
    "kernelspec": {
      "name": "python3",
      "display_name": "Python 3"
    }
  },
  "cells": [
    {
      "cell_type": "code",
      "metadata": {
        "id": "j5UTcW8Ij8_G",
        "colab_type": "code",
        "outputId": "4606376a-1164-4606-bcfe-3a388ce60e57",
        "colab": {
          "base_uri": "https://localhost:8080/",
          "height": 122
        }
      },
      "source": [
        "from google.colab import drive\n",
        "drive.mount('/content/drive')"
      ],
      "execution_count": 0,
      "outputs": [
        {
          "output_type": "stream",
          "text": [
            "Go to this URL in a browser: https://accounts.google.com/o/oauth2/auth?client_id=947318989803-6bn6qk8qdgf4n4g3pfee6491hc0brc4i.apps.googleusercontent.com&redirect_uri=urn%3aietf%3awg%3aoauth%3a2.0%3aoob&response_type=code&scope=email%20https%3a%2f%2fwww.googleapis.com%2fauth%2fdocs.test%20https%3a%2f%2fwww.googleapis.com%2fauth%2fdrive%20https%3a%2f%2fwww.googleapis.com%2fauth%2fdrive.photos.readonly%20https%3a%2f%2fwww.googleapis.com%2fauth%2fpeopleapi.readonly\n",
            "\n",
            "Enter your authorization code:\n",
            "··········\n",
            "Mounted at /content/drive\n"
          ],
          "name": "stdout"
        }
      ]
    },
    {
      "cell_type": "code",
      "metadata": {
        "id": "UlKUW2gFkkmI",
        "colab_type": "code",
        "outputId": "af51dd30-af5a-4096-f257-b47fd439c8c3",
        "colab": {
          "base_uri": "https://localhost:8080/",
          "height": 102
        }
      },
      "source": [
        "from gensim.models.doc2vec import Doc2Vec, TaggedDocument\n",
        "from nltk.tokenize import word_tokenize\n",
        "import pandas as pd\n",
        "from sklearn.model_selection import train_test_split\n",
        "import nltk\n",
        "from nltk.corpus import stopwords\n",
        "nltk.download('punkt')\n",
        "nltk.download('stopwords')"
      ],
      "execution_count": 0,
      "outputs": [
        {
          "output_type": "stream",
          "text": [
            "[nltk_data] Downloading package punkt to /root/nltk_data...\n",
            "[nltk_data]   Unzipping tokenizers/punkt.zip.\n",
            "[nltk_data] Downloading package stopwords to /root/nltk_data...\n",
            "[nltk_data]   Unzipping corpora/stopwords.zip.\n"
          ],
          "name": "stdout"
        },
        {
          "output_type": "execute_result",
          "data": {
            "text/plain": [
              "True"
            ]
          },
          "metadata": {
            "tags": []
          },
          "execution_count": 2
        }
      ]
    },
    {
      "cell_type": "code",
      "metadata": {
        "id": "lU-lvQXq6RxY",
        "colab_type": "code",
        "colab": {}
      },
      "source": [
        "import json\n",
        "f = open('/content/drive/My Drive/cns/data.json',)\n",
        "data = json.load(f)\n",
        "f.close()"
      ],
      "execution_count": 0,
      "outputs": []
    },
    {
      "cell_type": "code",
      "metadata": {
        "id": "BFfuNXt-k5og",
        "colab_type": "code",
        "outputId": "24156621-28d9-4d06-f692-ae9576ded8e4",
        "colab": {
          "base_uri": "https://localhost:8080/",
          "height": 204
        }
      },
      "source": [
        "mails = pd.read_csv(\"/content/drive/My Drive/spam_ham_dataset.csv\", header=0)\n",
        "mails.head()"
      ],
      "execution_count": 0,
      "outputs": [
        {
          "output_type": "execute_result",
          "data": {
            "text/html": [
              "<div>\n",
              "<style scoped>\n",
              "    .dataframe tbody tr th:only-of-type {\n",
              "        vertical-align: middle;\n",
              "    }\n",
              "\n",
              "    .dataframe tbody tr th {\n",
              "        vertical-align: top;\n",
              "    }\n",
              "\n",
              "    .dataframe thead th {\n",
              "        text-align: right;\n",
              "    }\n",
              "</style>\n",
              "<table border=\"1\" class=\"dataframe\">\n",
              "  <thead>\n",
              "    <tr style=\"text-align: right;\">\n",
              "      <th></th>\n",
              "      <th>Unnamed: 0</th>\n",
              "      <th>label</th>\n",
              "      <th>text</th>\n",
              "      <th>label_num</th>\n",
              "    </tr>\n",
              "  </thead>\n",
              "  <tbody>\n",
              "    <tr>\n",
              "      <th>0</th>\n",
              "      <td>605</td>\n",
              "      <td>ham</td>\n",
              "      <td>Subject: enron methanol ; meter # : 988291\\r\\n...</td>\n",
              "      <td>0</td>\n",
              "    </tr>\n",
              "    <tr>\n",
              "      <th>1</th>\n",
              "      <td>2349</td>\n",
              "      <td>ham</td>\n",
              "      <td>Subject: hpl nom for january 9 , 2001\\r\\n( see...</td>\n",
              "      <td>0</td>\n",
              "    </tr>\n",
              "    <tr>\n",
              "      <th>2</th>\n",
              "      <td>3624</td>\n",
              "      <td>ham</td>\n",
              "      <td>Subject: neon retreat\\r\\nho ho ho , we ' re ar...</td>\n",
              "      <td>0</td>\n",
              "    </tr>\n",
              "    <tr>\n",
              "      <th>3</th>\n",
              "      <td>4685</td>\n",
              "      <td>spam</td>\n",
              "      <td>Subject: photoshop , windows , office . cheap ...</td>\n",
              "      <td>1</td>\n",
              "    </tr>\n",
              "    <tr>\n",
              "      <th>4</th>\n",
              "      <td>2030</td>\n",
              "      <td>ham</td>\n",
              "      <td>Subject: re : indian springs\\r\\nthis deal is t...</td>\n",
              "      <td>0</td>\n",
              "    </tr>\n",
              "  </tbody>\n",
              "</table>\n",
              "</div>"
            ],
            "text/plain": [
              "   Unnamed: 0  ... label_num\n",
              "0         605  ...         0\n",
              "1        2349  ...         0\n",
              "2        3624  ...         0\n",
              "3        4685  ...         1\n",
              "4        2030  ...         0\n",
              "\n",
              "[5 rows x 4 columns]"
            ]
          },
          "metadata": {
            "tags": []
          },
          "execution_count": 4
        }
      ]
    },
    {
      "cell_type": "code",
      "metadata": {
        "id": "gk4KUqLPljVF",
        "colab_type": "code",
        "colab": {}
      },
      "source": [
        "data_train, data_test, label_train, label_test = train_test_split(mails['text'], mails['label'],test_size=.10)"
      ],
      "execution_count": 0,
      "outputs": []
    },
    {
      "cell_type": "code",
      "metadata": {
        "id": "nyG8RLqemZYJ",
        "colab_type": "code",
        "colab": {}
      },
      "source": [
        "tagged_mails = []\n",
        "for mail_text, label in zip(data_train, label_train):\n",
        "  tagged_mail = TaggedDocument(words=word_tokenize(mail_text.lower()), tags=[label])\n",
        "  tagged_mails.append(tagged_mail) "
      ],
      "execution_count": 0,
      "outputs": []
    },
    {
      "cell_type": "code",
      "metadata": {
        "id": "R05ZrN0pqpFI",
        "colab_type": "code",
        "colab": {}
      },
      "source": [
        "stop_words = set(stopwords.words('english')) "
      ],
      "execution_count": 0,
      "outputs": []
    },
    {
      "cell_type": "code",
      "metadata": {
        "id": "-S2Lz3TLmlIQ",
        "colab_type": "code",
        "colab": {}
      },
      "source": [
        "max_epochs = 50\n",
        "vec_size = 100\n",
        "alpha_val = 0.025\n",
        "min_word_count = 1"
      ],
      "execution_count": 0,
      "outputs": []
    },
    {
      "cell_type": "code",
      "metadata": {
        "id": "FiuZkRxgnr1x",
        "colab_type": "code",
        "colab": {}
      },
      "source": [
        "model = Doc2Vec(vector_size=vec_size, alpha=alpha_val, \n",
        "                min_count=min_word_count)\n",
        "model.build_vocab(tagged_mails)\n",
        "model.train(tagged_mails, total_examples=model.corpus_count,\n",
        "             epochs=max_epochs)"
      ],
      "execution_count": 0,
      "outputs": []
    },
    {
      "cell_type": "code",
      "metadata": {
        "id": "2d7E7mXEoS9V",
        "colab_type": "code",
        "outputId": "a162f22e-fa6d-4caa-eb7b-34da0306d54e",
        "colab": {
          "base_uri": "https://localhost:8080/",
          "height": 71
        }
      },
      "source": [
        "model.save(\"/content/drive/My Drive/cns/d2v.model\")"
      ],
      "execution_count": 0,
      "outputs": [
        {
          "output_type": "stream",
          "text": [
            "/usr/local/lib/python3.6/dist-packages/smart_open/smart_open_lib.py:410: UserWarning: This function is deprecated, use smart_open.open instead. See the migration notes for details: https://github.com/RaRe-Technologies/smart_open/blob/master/README.rst#migrating-to-the-new-open-function\n",
            "  'See the migration notes for details: %s' % _MIGRATION_NOTES_URL\n"
          ],
          "name": "stderr"
        }
      ]
    },
    {
      "cell_type": "code",
      "metadata": {
        "id": "Qf17nWZ4z-26",
        "colab_type": "code",
        "colab": {}
      },
      "source": [
        "mail_vectors = []\n",
        "count_list_train = []\n",
        "for text, label in zip(data_train, label_train):\n",
        "  mail_text = word_tokenize(text.lower())\n",
        "  count = 0\n",
        "  for word in mail_text:\n",
        "    if word in stop_words:\n",
        "      continue\n",
        "    if not word.isalpha():\n",
        "      continue\n",
        "    if len(word) <= 1:\n",
        "      continue\n",
        "    if word in data:\n",
        "      count=count+1\n",
        "  count_list_train.append(count)\n",
        "  mail_vector = model.infer_vector(mail_text)\n",
        "  mail_vectors.append(mail_vector)"
      ],
      "execution_count": 0,
      "outputs": []
    },
    {
      "cell_type": "code",
      "metadata": {
        "id": "0LyxSh1YtTub",
        "colab_type": "code",
        "colab": {}
      },
      "source": [
        "test_vectors = []\n",
        "count_list_test = []\n",
        "for text, label in zip(data_test, label_test):\n",
        "  test_text = word_tokenize(text.lower())\n",
        "  count = 0\n",
        "  for word in test_text:\n",
        "    if word in stop_words:\n",
        "      continue\n",
        "    if not word.isalpha():\n",
        "      continue\n",
        "    if len(word) <= 1:\n",
        "      continue\n",
        "    if word in data:\n",
        "      count=count+1\n",
        "  count_list_test.append(count)\n",
        "  test_vector = model.infer_vector(test_text)\n",
        "  test_vectors.append(test_vector)"
      ],
      "execution_count": 0,
      "outputs": []
    },
    {
      "cell_type": "code",
      "metadata": {
        "id": "3AvDh6-oSHx3",
        "colab_type": "code",
        "outputId": "b1eb79dd-669c-4676-facb-a13eb9ca377b",
        "colab": {
          "base_uri": "https://localhost:8080/",
          "height": 253
        }
      },
      "source": [
        "df = pd.DataFrame(data=mail_vectors)\n",
        "df['spamcount']=count_list_train\n",
        "df.head()"
      ],
      "execution_count": 0,
      "outputs": [
        {
          "output_type": "execute_result",
          "data": {
            "text/html": [
              "<div>\n",
              "<style scoped>\n",
              "    .dataframe tbody tr th:only-of-type {\n",
              "        vertical-align: middle;\n",
              "    }\n",
              "\n",
              "    .dataframe tbody tr th {\n",
              "        vertical-align: top;\n",
              "    }\n",
              "\n",
              "    .dataframe thead th {\n",
              "        text-align: right;\n",
              "    }\n",
              "</style>\n",
              "<table border=\"1\" class=\"dataframe\">\n",
              "  <thead>\n",
              "    <tr style=\"text-align: right;\">\n",
              "      <th></th>\n",
              "      <th>0</th>\n",
              "      <th>1</th>\n",
              "      <th>2</th>\n",
              "      <th>3</th>\n",
              "      <th>4</th>\n",
              "      <th>5</th>\n",
              "      <th>6</th>\n",
              "      <th>7</th>\n",
              "      <th>8</th>\n",
              "      <th>9</th>\n",
              "      <th>10</th>\n",
              "      <th>11</th>\n",
              "      <th>12</th>\n",
              "      <th>13</th>\n",
              "      <th>14</th>\n",
              "      <th>15</th>\n",
              "      <th>16</th>\n",
              "      <th>17</th>\n",
              "      <th>18</th>\n",
              "      <th>19</th>\n",
              "      <th>20</th>\n",
              "      <th>21</th>\n",
              "      <th>22</th>\n",
              "      <th>23</th>\n",
              "      <th>24</th>\n",
              "      <th>25</th>\n",
              "      <th>26</th>\n",
              "      <th>27</th>\n",
              "      <th>28</th>\n",
              "      <th>29</th>\n",
              "      <th>30</th>\n",
              "      <th>31</th>\n",
              "      <th>32</th>\n",
              "      <th>33</th>\n",
              "      <th>34</th>\n",
              "      <th>35</th>\n",
              "      <th>36</th>\n",
              "      <th>37</th>\n",
              "      <th>38</th>\n",
              "      <th>39</th>\n",
              "      <th>...</th>\n",
              "      <th>61</th>\n",
              "      <th>62</th>\n",
              "      <th>63</th>\n",
              "      <th>64</th>\n",
              "      <th>65</th>\n",
              "      <th>66</th>\n",
              "      <th>67</th>\n",
              "      <th>68</th>\n",
              "      <th>69</th>\n",
              "      <th>70</th>\n",
              "      <th>71</th>\n",
              "      <th>72</th>\n",
              "      <th>73</th>\n",
              "      <th>74</th>\n",
              "      <th>75</th>\n",
              "      <th>76</th>\n",
              "      <th>77</th>\n",
              "      <th>78</th>\n",
              "      <th>79</th>\n",
              "      <th>80</th>\n",
              "      <th>81</th>\n",
              "      <th>82</th>\n",
              "      <th>83</th>\n",
              "      <th>84</th>\n",
              "      <th>85</th>\n",
              "      <th>86</th>\n",
              "      <th>87</th>\n",
              "      <th>88</th>\n",
              "      <th>89</th>\n",
              "      <th>90</th>\n",
              "      <th>91</th>\n",
              "      <th>92</th>\n",
              "      <th>93</th>\n",
              "      <th>94</th>\n",
              "      <th>95</th>\n",
              "      <th>96</th>\n",
              "      <th>97</th>\n",
              "      <th>98</th>\n",
              "      <th>99</th>\n",
              "      <th>spamcount</th>\n",
              "    </tr>\n",
              "  </thead>\n",
              "  <tbody>\n",
              "    <tr>\n",
              "      <th>0</th>\n",
              "      <td>2.063180</td>\n",
              "      <td>0.814399</td>\n",
              "      <td>2.957657</td>\n",
              "      <td>-0.059860</td>\n",
              "      <td>-1.683448</td>\n",
              "      <td>-1.390265</td>\n",
              "      <td>2.129796</td>\n",
              "      <td>-0.309502</td>\n",
              "      <td>0.900936</td>\n",
              "      <td>1.226010</td>\n",
              "      <td>-2.687712</td>\n",
              "      <td>0.128964</td>\n",
              "      <td>-0.362772</td>\n",
              "      <td>-2.839307</td>\n",
              "      <td>3.033495</td>\n",
              "      <td>-0.227723</td>\n",
              "      <td>0.126334</td>\n",
              "      <td>1.946337</td>\n",
              "      <td>-0.063552</td>\n",
              "      <td>1.670228</td>\n",
              "      <td>-1.752564</td>\n",
              "      <td>-0.219945</td>\n",
              "      <td>-0.632178</td>\n",
              "      <td>-0.541157</td>\n",
              "      <td>-0.851565</td>\n",
              "      <td>-0.127478</td>\n",
              "      <td>0.452179</td>\n",
              "      <td>-2.044406</td>\n",
              "      <td>0.420111</td>\n",
              "      <td>0.181945</td>\n",
              "      <td>2.129520</td>\n",
              "      <td>2.631207</td>\n",
              "      <td>-1.873802</td>\n",
              "      <td>-2.327163</td>\n",
              "      <td>1.150350</td>\n",
              "      <td>-0.531122</td>\n",
              "      <td>-0.419876</td>\n",
              "      <td>1.478702</td>\n",
              "      <td>0.456691</td>\n",
              "      <td>-1.088295</td>\n",
              "      <td>...</td>\n",
              "      <td>1.045360</td>\n",
              "      <td>0.179422</td>\n",
              "      <td>-0.599545</td>\n",
              "      <td>-0.068133</td>\n",
              "      <td>2.700160</td>\n",
              "      <td>1.288011</td>\n",
              "      <td>-0.037043</td>\n",
              "      <td>1.557546</td>\n",
              "      <td>-0.917605</td>\n",
              "      <td>-1.429407</td>\n",
              "      <td>-1.669331</td>\n",
              "      <td>-2.430813</td>\n",
              "      <td>2.027117</td>\n",
              "      <td>0.942375</td>\n",
              "      <td>-1.448617</td>\n",
              "      <td>0.520152</td>\n",
              "      <td>-0.654034</td>\n",
              "      <td>0.394732</td>\n",
              "      <td>-2.475667</td>\n",
              "      <td>-0.313339</td>\n",
              "      <td>0.335338</td>\n",
              "      <td>1.132087</td>\n",
              "      <td>2.476835</td>\n",
              "      <td>1.564100</td>\n",
              "      <td>1.685876</td>\n",
              "      <td>-1.235178</td>\n",
              "      <td>-0.542109</td>\n",
              "      <td>1.928463</td>\n",
              "      <td>-0.726473</td>\n",
              "      <td>-1.135777</td>\n",
              "      <td>2.705113</td>\n",
              "      <td>1.735896</td>\n",
              "      <td>3.093116</td>\n",
              "      <td>2.005049</td>\n",
              "      <td>0.754860</td>\n",
              "      <td>2.190536</td>\n",
              "      <td>1.073539</td>\n",
              "      <td>1.341245</td>\n",
              "      <td>0.241716</td>\n",
              "      <td>4</td>\n",
              "    </tr>\n",
              "    <tr>\n",
              "      <th>1</th>\n",
              "      <td>1.247429</td>\n",
              "      <td>0.890817</td>\n",
              "      <td>2.988337</td>\n",
              "      <td>0.544875</td>\n",
              "      <td>-0.478917</td>\n",
              "      <td>-1.557250</td>\n",
              "      <td>2.787874</td>\n",
              "      <td>1.056468</td>\n",
              "      <td>0.957269</td>\n",
              "      <td>2.882435</td>\n",
              "      <td>-2.797014</td>\n",
              "      <td>0.209970</td>\n",
              "      <td>-0.784591</td>\n",
              "      <td>-2.281419</td>\n",
              "      <td>2.388414</td>\n",
              "      <td>-1.032207</td>\n",
              "      <td>1.002719</td>\n",
              "      <td>3.070910</td>\n",
              "      <td>-1.157084</td>\n",
              "      <td>0.647537</td>\n",
              "      <td>-2.175522</td>\n",
              "      <td>-0.023072</td>\n",
              "      <td>-0.057396</td>\n",
              "      <td>0.949909</td>\n",
              "      <td>-0.812420</td>\n",
              "      <td>0.619261</td>\n",
              "      <td>0.475333</td>\n",
              "      <td>-0.536915</td>\n",
              "      <td>0.025035</td>\n",
              "      <td>0.211131</td>\n",
              "      <td>1.622604</td>\n",
              "      <td>1.750070</td>\n",
              "      <td>-1.828462</td>\n",
              "      <td>-1.258944</td>\n",
              "      <td>0.235456</td>\n",
              "      <td>-0.340990</td>\n",
              "      <td>0.047214</td>\n",
              "      <td>0.236314</td>\n",
              "      <td>0.693204</td>\n",
              "      <td>-1.001657</td>\n",
              "      <td>...</td>\n",
              "      <td>0.743539</td>\n",
              "      <td>0.217700</td>\n",
              "      <td>-0.366706</td>\n",
              "      <td>-1.036036</td>\n",
              "      <td>4.323206</td>\n",
              "      <td>1.301122</td>\n",
              "      <td>-0.290657</td>\n",
              "      <td>1.185734</td>\n",
              "      <td>-1.701751</td>\n",
              "      <td>-1.547175</td>\n",
              "      <td>-0.307930</td>\n",
              "      <td>-3.373655</td>\n",
              "      <td>1.048477</td>\n",
              "      <td>1.812609</td>\n",
              "      <td>-1.117297</td>\n",
              "      <td>0.466282</td>\n",
              "      <td>0.288455</td>\n",
              "      <td>-0.428043</td>\n",
              "      <td>-2.045638</td>\n",
              "      <td>-0.219388</td>\n",
              "      <td>1.161336</td>\n",
              "      <td>1.395826</td>\n",
              "      <td>3.323405</td>\n",
              "      <td>1.644944</td>\n",
              "      <td>0.229891</td>\n",
              "      <td>-1.565555</td>\n",
              "      <td>-1.720623</td>\n",
              "      <td>1.434580</td>\n",
              "      <td>-0.226013</td>\n",
              "      <td>-0.597744</td>\n",
              "      <td>4.257090</td>\n",
              "      <td>-0.158030</td>\n",
              "      <td>3.291736</td>\n",
              "      <td>1.738481</td>\n",
              "      <td>0.983736</td>\n",
              "      <td>2.473027</td>\n",
              "      <td>0.877872</td>\n",
              "      <td>0.557662</td>\n",
              "      <td>0.144976</td>\n",
              "      <td>17</td>\n",
              "    </tr>\n",
              "    <tr>\n",
              "      <th>2</th>\n",
              "      <td>0.888197</td>\n",
              "      <td>0.674511</td>\n",
              "      <td>0.467519</td>\n",
              "      <td>-0.707809</td>\n",
              "      <td>-0.237797</td>\n",
              "      <td>0.405560</td>\n",
              "      <td>0.286953</td>\n",
              "      <td>0.369175</td>\n",
              "      <td>0.881110</td>\n",
              "      <td>2.426437</td>\n",
              "      <td>-0.628534</td>\n",
              "      <td>0.951049</td>\n",
              "      <td>-0.427744</td>\n",
              "      <td>-1.468407</td>\n",
              "      <td>2.703897</td>\n",
              "      <td>-0.318783</td>\n",
              "      <td>1.014846</td>\n",
              "      <td>2.878367</td>\n",
              "      <td>0.320132</td>\n",
              "      <td>0.817281</td>\n",
              "      <td>-0.876759</td>\n",
              "      <td>-0.189257</td>\n",
              "      <td>-1.444919</td>\n",
              "      <td>1.024053</td>\n",
              "      <td>0.857689</td>\n",
              "      <td>1.142788</td>\n",
              "      <td>0.603006</td>\n",
              "      <td>-1.506937</td>\n",
              "      <td>-0.070646</td>\n",
              "      <td>-0.537228</td>\n",
              "      <td>1.788249</td>\n",
              "      <td>1.418779</td>\n",
              "      <td>-1.550779</td>\n",
              "      <td>-0.953503</td>\n",
              "      <td>0.305420</td>\n",
              "      <td>0.481120</td>\n",
              "      <td>1.389254</td>\n",
              "      <td>0.454712</td>\n",
              "      <td>0.814917</td>\n",
              "      <td>-0.490871</td>\n",
              "      <td>...</td>\n",
              "      <td>-0.532596</td>\n",
              "      <td>0.100451</td>\n",
              "      <td>-0.319250</td>\n",
              "      <td>-0.162877</td>\n",
              "      <td>1.695886</td>\n",
              "      <td>-0.959987</td>\n",
              "      <td>0.412400</td>\n",
              "      <td>0.290210</td>\n",
              "      <td>-2.080968</td>\n",
              "      <td>-1.231540</td>\n",
              "      <td>-1.055914</td>\n",
              "      <td>-1.648834</td>\n",
              "      <td>0.378367</td>\n",
              "      <td>0.723123</td>\n",
              "      <td>0.487455</td>\n",
              "      <td>0.620622</td>\n",
              "      <td>-0.398344</td>\n",
              "      <td>-0.199922</td>\n",
              "      <td>-1.899530</td>\n",
              "      <td>0.798732</td>\n",
              "      <td>0.589257</td>\n",
              "      <td>-0.277695</td>\n",
              "      <td>4.010310</td>\n",
              "      <td>0.863458</td>\n",
              "      <td>0.524781</td>\n",
              "      <td>0.169933</td>\n",
              "      <td>-1.658385</td>\n",
              "      <td>0.648463</td>\n",
              "      <td>-0.121579</td>\n",
              "      <td>1.211807</td>\n",
              "      <td>2.337729</td>\n",
              "      <td>1.206703</td>\n",
              "      <td>2.608288</td>\n",
              "      <td>0.920717</td>\n",
              "      <td>2.011916</td>\n",
              "      <td>2.302549</td>\n",
              "      <td>3.484094</td>\n",
              "      <td>0.175866</td>\n",
              "      <td>0.501303</td>\n",
              "      <td>6</td>\n",
              "    </tr>\n",
              "    <tr>\n",
              "      <th>3</th>\n",
              "      <td>0.781486</td>\n",
              "      <td>0.108593</td>\n",
              "      <td>0.510558</td>\n",
              "      <td>-0.250853</td>\n",
              "      <td>-0.665434</td>\n",
              "      <td>0.273604</td>\n",
              "      <td>0.362987</td>\n",
              "      <td>1.377375</td>\n",
              "      <td>0.531226</td>\n",
              "      <td>2.015775</td>\n",
              "      <td>-1.061931</td>\n",
              "      <td>0.575864</td>\n",
              "      <td>0.033518</td>\n",
              "      <td>-0.806925</td>\n",
              "      <td>1.047438</td>\n",
              "      <td>-1.059810</td>\n",
              "      <td>0.359778</td>\n",
              "      <td>1.534228</td>\n",
              "      <td>0.178698</td>\n",
              "      <td>0.050501</td>\n",
              "      <td>-0.128366</td>\n",
              "      <td>0.179952</td>\n",
              "      <td>-1.082258</td>\n",
              "      <td>0.069454</td>\n",
              "      <td>0.069781</td>\n",
              "      <td>1.027232</td>\n",
              "      <td>0.518894</td>\n",
              "      <td>-1.523881</td>\n",
              "      <td>0.298953</td>\n",
              "      <td>0.289862</td>\n",
              "      <td>0.586244</td>\n",
              "      <td>0.072831</td>\n",
              "      <td>-0.501880</td>\n",
              "      <td>-0.891076</td>\n",
              "      <td>0.463198</td>\n",
              "      <td>0.018157</td>\n",
              "      <td>0.122447</td>\n",
              "      <td>0.275765</td>\n",
              "      <td>-0.198402</td>\n",
              "      <td>-1.131646</td>\n",
              "      <td>...</td>\n",
              "      <td>-0.296150</td>\n",
              "      <td>0.477864</td>\n",
              "      <td>-1.051381</td>\n",
              "      <td>0.081017</td>\n",
              "      <td>1.276221</td>\n",
              "      <td>0.055104</td>\n",
              "      <td>0.350189</td>\n",
              "      <td>-0.087998</td>\n",
              "      <td>-0.192077</td>\n",
              "      <td>-0.776828</td>\n",
              "      <td>-0.647720</td>\n",
              "      <td>-1.541486</td>\n",
              "      <td>1.260619</td>\n",
              "      <td>0.523965</td>\n",
              "      <td>-0.999136</td>\n",
              "      <td>0.508917</td>\n",
              "      <td>-0.834355</td>\n",
              "      <td>0.010463</td>\n",
              "      <td>-1.747217</td>\n",
              "      <td>0.285009</td>\n",
              "      <td>1.277198</td>\n",
              "      <td>0.071423</td>\n",
              "      <td>1.728858</td>\n",
              "      <td>0.909015</td>\n",
              "      <td>0.898353</td>\n",
              "      <td>-0.660921</td>\n",
              "      <td>-0.516506</td>\n",
              "      <td>0.706463</td>\n",
              "      <td>-0.279874</td>\n",
              "      <td>1.342952</td>\n",
              "      <td>0.978231</td>\n",
              "      <td>1.316935</td>\n",
              "      <td>0.967698</td>\n",
              "      <td>0.940673</td>\n",
              "      <td>0.280221</td>\n",
              "      <td>1.555492</td>\n",
              "      <td>0.956216</td>\n",
              "      <td>0.667861</td>\n",
              "      <td>-0.217793</td>\n",
              "      <td>3</td>\n",
              "    </tr>\n",
              "    <tr>\n",
              "      <th>4</th>\n",
              "      <td>1.601823</td>\n",
              "      <td>0.083276</td>\n",
              "      <td>1.208442</td>\n",
              "      <td>-0.049826</td>\n",
              "      <td>-0.374542</td>\n",
              "      <td>-0.629493</td>\n",
              "      <td>0.172318</td>\n",
              "      <td>0.616353</td>\n",
              "      <td>0.071857</td>\n",
              "      <td>2.001655</td>\n",
              "      <td>-1.328803</td>\n",
              "      <td>0.562365</td>\n",
              "      <td>0.067720</td>\n",
              "      <td>-0.951336</td>\n",
              "      <td>0.843842</td>\n",
              "      <td>-1.221161</td>\n",
              "      <td>0.963679</td>\n",
              "      <td>1.510965</td>\n",
              "      <td>-0.018835</td>\n",
              "      <td>0.166406</td>\n",
              "      <td>-0.465219</td>\n",
              "      <td>0.706497</td>\n",
              "      <td>-0.784645</td>\n",
              "      <td>0.883503</td>\n",
              "      <td>0.023846</td>\n",
              "      <td>0.160865</td>\n",
              "      <td>0.685005</td>\n",
              "      <td>-0.760768</td>\n",
              "      <td>0.273806</td>\n",
              "      <td>0.004572</td>\n",
              "      <td>1.310859</td>\n",
              "      <td>0.693907</td>\n",
              "      <td>-1.129739</td>\n",
              "      <td>-0.000289</td>\n",
              "      <td>-0.201361</td>\n",
              "      <td>-0.055754</td>\n",
              "      <td>0.694619</td>\n",
              "      <td>0.150064</td>\n",
              "      <td>-0.193470</td>\n",
              "      <td>-0.620011</td>\n",
              "      <td>...</td>\n",
              "      <td>0.296081</td>\n",
              "      <td>-0.120447</td>\n",
              "      <td>-0.495082</td>\n",
              "      <td>0.630748</td>\n",
              "      <td>1.196474</td>\n",
              "      <td>-0.140308</td>\n",
              "      <td>-0.091313</td>\n",
              "      <td>-0.185871</td>\n",
              "      <td>-1.117975</td>\n",
              "      <td>-0.816749</td>\n",
              "      <td>-0.937510</td>\n",
              "      <td>-1.175285</td>\n",
              "      <td>0.367016</td>\n",
              "      <td>0.738211</td>\n",
              "      <td>-0.326152</td>\n",
              "      <td>0.198089</td>\n",
              "      <td>0.288672</td>\n",
              "      <td>0.253140</td>\n",
              "      <td>-0.901164</td>\n",
              "      <td>0.218493</td>\n",
              "      <td>0.324604</td>\n",
              "      <td>0.501709</td>\n",
              "      <td>1.532137</td>\n",
              "      <td>0.426077</td>\n",
              "      <td>0.884226</td>\n",
              "      <td>-0.452878</td>\n",
              "      <td>-1.239958</td>\n",
              "      <td>-0.087841</td>\n",
              "      <td>-0.904655</td>\n",
              "      <td>0.581341</td>\n",
              "      <td>1.415494</td>\n",
              "      <td>0.696710</td>\n",
              "      <td>0.189033</td>\n",
              "      <td>1.021361</td>\n",
              "      <td>0.656420</td>\n",
              "      <td>1.506163</td>\n",
              "      <td>0.737520</td>\n",
              "      <td>-0.254558</td>\n",
              "      <td>-0.339708</td>\n",
              "      <td>2</td>\n",
              "    </tr>\n",
              "  </tbody>\n",
              "</table>\n",
              "<p>5 rows × 101 columns</p>\n",
              "</div>"
            ],
            "text/plain": [
              "          0         1         2  ...        98        99  spamcount\n",
              "0  2.063180  0.814399  2.957657  ...  1.341245  0.241716          4\n",
              "1  1.247429  0.890817  2.988337  ...  0.557662  0.144976         17\n",
              "2  0.888197  0.674511  0.467519  ...  0.175866  0.501303          6\n",
              "3  0.781486  0.108593  0.510558  ...  0.667861 -0.217793          3\n",
              "4  1.601823  0.083276  1.208442  ... -0.254558 -0.339708          2\n",
              "\n",
              "[5 rows x 101 columns]"
            ]
          },
          "metadata": {
            "tags": []
          },
          "execution_count": 12
        }
      ]
    },
    {
      "cell_type": "code",
      "metadata": {
        "id": "OFDW_2EGt9B9",
        "colab_type": "code",
        "outputId": "774a9d7a-667e-4373-e136-758ddd045692",
        "colab": {
          "base_uri": "https://localhost:8080/",
          "height": 253
        }
      },
      "source": [
        "df_test=pd.DataFrame(data=test_vectors)\n",
        "df_test['spamcount']=count_list_test\n",
        "df_test.head()"
      ],
      "execution_count": 0,
      "outputs": [
        {
          "output_type": "execute_result",
          "data": {
            "text/html": [
              "<div>\n",
              "<style scoped>\n",
              "    .dataframe tbody tr th:only-of-type {\n",
              "        vertical-align: middle;\n",
              "    }\n",
              "\n",
              "    .dataframe tbody tr th {\n",
              "        vertical-align: top;\n",
              "    }\n",
              "\n",
              "    .dataframe thead th {\n",
              "        text-align: right;\n",
              "    }\n",
              "</style>\n",
              "<table border=\"1\" class=\"dataframe\">\n",
              "  <thead>\n",
              "    <tr style=\"text-align: right;\">\n",
              "      <th></th>\n",
              "      <th>0</th>\n",
              "      <th>1</th>\n",
              "      <th>2</th>\n",
              "      <th>3</th>\n",
              "      <th>4</th>\n",
              "      <th>5</th>\n",
              "      <th>6</th>\n",
              "      <th>7</th>\n",
              "      <th>8</th>\n",
              "      <th>9</th>\n",
              "      <th>10</th>\n",
              "      <th>11</th>\n",
              "      <th>12</th>\n",
              "      <th>13</th>\n",
              "      <th>14</th>\n",
              "      <th>15</th>\n",
              "      <th>16</th>\n",
              "      <th>17</th>\n",
              "      <th>18</th>\n",
              "      <th>19</th>\n",
              "      <th>20</th>\n",
              "      <th>21</th>\n",
              "      <th>22</th>\n",
              "      <th>23</th>\n",
              "      <th>24</th>\n",
              "      <th>25</th>\n",
              "      <th>26</th>\n",
              "      <th>27</th>\n",
              "      <th>28</th>\n",
              "      <th>29</th>\n",
              "      <th>30</th>\n",
              "      <th>31</th>\n",
              "      <th>32</th>\n",
              "      <th>33</th>\n",
              "      <th>34</th>\n",
              "      <th>35</th>\n",
              "      <th>36</th>\n",
              "      <th>37</th>\n",
              "      <th>38</th>\n",
              "      <th>39</th>\n",
              "      <th>...</th>\n",
              "      <th>61</th>\n",
              "      <th>62</th>\n",
              "      <th>63</th>\n",
              "      <th>64</th>\n",
              "      <th>65</th>\n",
              "      <th>66</th>\n",
              "      <th>67</th>\n",
              "      <th>68</th>\n",
              "      <th>69</th>\n",
              "      <th>70</th>\n",
              "      <th>71</th>\n",
              "      <th>72</th>\n",
              "      <th>73</th>\n",
              "      <th>74</th>\n",
              "      <th>75</th>\n",
              "      <th>76</th>\n",
              "      <th>77</th>\n",
              "      <th>78</th>\n",
              "      <th>79</th>\n",
              "      <th>80</th>\n",
              "      <th>81</th>\n",
              "      <th>82</th>\n",
              "      <th>83</th>\n",
              "      <th>84</th>\n",
              "      <th>85</th>\n",
              "      <th>86</th>\n",
              "      <th>87</th>\n",
              "      <th>88</th>\n",
              "      <th>89</th>\n",
              "      <th>90</th>\n",
              "      <th>91</th>\n",
              "      <th>92</th>\n",
              "      <th>93</th>\n",
              "      <th>94</th>\n",
              "      <th>95</th>\n",
              "      <th>96</th>\n",
              "      <th>97</th>\n",
              "      <th>98</th>\n",
              "      <th>99</th>\n",
              "      <th>spamcount</th>\n",
              "    </tr>\n",
              "  </thead>\n",
              "  <tbody>\n",
              "    <tr>\n",
              "      <th>0</th>\n",
              "      <td>0.244401</td>\n",
              "      <td>3.780029</td>\n",
              "      <td>-1.060506</td>\n",
              "      <td>-0.159457</td>\n",
              "      <td>-0.488590</td>\n",
              "      <td>-1.822124</td>\n",
              "      <td>3.546292</td>\n",
              "      <td>-0.309780</td>\n",
              "      <td>-1.223114</td>\n",
              "      <td>1.705852</td>\n",
              "      <td>-4.208495</td>\n",
              "      <td>-1.458492</td>\n",
              "      <td>0.382847</td>\n",
              "      <td>-1.099144</td>\n",
              "      <td>5.915428</td>\n",
              "      <td>1.885826</td>\n",
              "      <td>0.216350</td>\n",
              "      <td>2.313834</td>\n",
              "      <td>0.001858</td>\n",
              "      <td>2.177803</td>\n",
              "      <td>-2.438396</td>\n",
              "      <td>3.672366</td>\n",
              "      <td>1.336149</td>\n",
              "      <td>0.092535</td>\n",
              "      <td>0.432251</td>\n",
              "      <td>-2.651062</td>\n",
              "      <td>1.473642</td>\n",
              "      <td>-5.688504</td>\n",
              "      <td>-0.468530</td>\n",
              "      <td>-0.353929</td>\n",
              "      <td>-0.872560</td>\n",
              "      <td>1.809937</td>\n",
              "      <td>-2.496255</td>\n",
              "      <td>-0.385261</td>\n",
              "      <td>2.585231</td>\n",
              "      <td>2.080072</td>\n",
              "      <td>1.247723</td>\n",
              "      <td>0.642915</td>\n",
              "      <td>0.856534</td>\n",
              "      <td>-1.430649</td>\n",
              "      <td>...</td>\n",
              "      <td>1.775982</td>\n",
              "      <td>-1.274006</td>\n",
              "      <td>-2.193284</td>\n",
              "      <td>-0.262680</td>\n",
              "      <td>6.996186</td>\n",
              "      <td>0.771003</td>\n",
              "      <td>0.681922</td>\n",
              "      <td>3.766701</td>\n",
              "      <td>-3.043590</td>\n",
              "      <td>0.430038</td>\n",
              "      <td>0.153636</td>\n",
              "      <td>-7.093183</td>\n",
              "      <td>1.802384</td>\n",
              "      <td>-0.509373</td>\n",
              "      <td>-0.897775</td>\n",
              "      <td>0.965196</td>\n",
              "      <td>-1.933750</td>\n",
              "      <td>1.038503</td>\n",
              "      <td>-2.694595</td>\n",
              "      <td>-0.852100</td>\n",
              "      <td>0.642042</td>\n",
              "      <td>2.525986</td>\n",
              "      <td>2.432692</td>\n",
              "      <td>2.486484</td>\n",
              "      <td>5.820993</td>\n",
              "      <td>-2.741726</td>\n",
              "      <td>-1.087582</td>\n",
              "      <td>-1.560713</td>\n",
              "      <td>-3.926286</td>\n",
              "      <td>-0.039118</td>\n",
              "      <td>6.137163</td>\n",
              "      <td>0.875099</td>\n",
              "      <td>5.770002</td>\n",
              "      <td>4.398241</td>\n",
              "      <td>-0.605930</td>\n",
              "      <td>3.034302</td>\n",
              "      <td>2.021688</td>\n",
              "      <td>3.494969</td>\n",
              "      <td>1.504424</td>\n",
              "      <td>44</td>\n",
              "    </tr>\n",
              "    <tr>\n",
              "      <th>1</th>\n",
              "      <td>1.575464</td>\n",
              "      <td>0.336648</td>\n",
              "      <td>1.428485</td>\n",
              "      <td>0.109249</td>\n",
              "      <td>-1.400513</td>\n",
              "      <td>0.639814</td>\n",
              "      <td>-0.771730</td>\n",
              "      <td>3.061959</td>\n",
              "      <td>-0.289604</td>\n",
              "      <td>0.991432</td>\n",
              "      <td>-0.977163</td>\n",
              "      <td>0.470413</td>\n",
              "      <td>-1.417495</td>\n",
              "      <td>-0.917432</td>\n",
              "      <td>-0.214296</td>\n",
              "      <td>-0.407046</td>\n",
              "      <td>1.400821</td>\n",
              "      <td>2.999294</td>\n",
              "      <td>0.084024</td>\n",
              "      <td>2.121950</td>\n",
              "      <td>-2.264429</td>\n",
              "      <td>-0.188337</td>\n",
              "      <td>-0.069641</td>\n",
              "      <td>-0.351989</td>\n",
              "      <td>1.205064</td>\n",
              "      <td>-0.400332</td>\n",
              "      <td>0.787784</td>\n",
              "      <td>-1.099921</td>\n",
              "      <td>-0.679030</td>\n",
              "      <td>-0.660007</td>\n",
              "      <td>0.425174</td>\n",
              "      <td>0.018369</td>\n",
              "      <td>0.138969</td>\n",
              "      <td>-1.279748</td>\n",
              "      <td>0.844986</td>\n",
              "      <td>-0.593166</td>\n",
              "      <td>0.062445</td>\n",
              "      <td>-0.005643</td>\n",
              "      <td>0.557107</td>\n",
              "      <td>-1.481393</td>\n",
              "      <td>...</td>\n",
              "      <td>0.162222</td>\n",
              "      <td>-1.687375</td>\n",
              "      <td>-0.896741</td>\n",
              "      <td>0.238168</td>\n",
              "      <td>1.964834</td>\n",
              "      <td>-0.375221</td>\n",
              "      <td>-0.491097</td>\n",
              "      <td>0.205287</td>\n",
              "      <td>-1.062247</td>\n",
              "      <td>-1.384976</td>\n",
              "      <td>-1.732449</td>\n",
              "      <td>-1.384204</td>\n",
              "      <td>0.700334</td>\n",
              "      <td>1.031844</td>\n",
              "      <td>-0.584535</td>\n",
              "      <td>0.385446</td>\n",
              "      <td>1.020583</td>\n",
              "      <td>-0.155129</td>\n",
              "      <td>0.809200</td>\n",
              "      <td>-0.011757</td>\n",
              "      <td>2.085131</td>\n",
              "      <td>-0.204332</td>\n",
              "      <td>1.916819</td>\n",
              "      <td>0.966272</td>\n",
              "      <td>0.379873</td>\n",
              "      <td>1.162199</td>\n",
              "      <td>-0.739896</td>\n",
              "      <td>0.480670</td>\n",
              "      <td>-1.633334</td>\n",
              "      <td>0.348719</td>\n",
              "      <td>1.987824</td>\n",
              "      <td>1.296718</td>\n",
              "      <td>2.306034</td>\n",
              "      <td>1.634913</td>\n",
              "      <td>2.579198</td>\n",
              "      <td>1.749489</td>\n",
              "      <td>1.201888</td>\n",
              "      <td>1.037125</td>\n",
              "      <td>0.565125</td>\n",
              "      <td>3</td>\n",
              "    </tr>\n",
              "    <tr>\n",
              "      <th>2</th>\n",
              "      <td>0.139682</td>\n",
              "      <td>0.545045</td>\n",
              "      <td>0.318559</td>\n",
              "      <td>-0.285954</td>\n",
              "      <td>-0.049687</td>\n",
              "      <td>-0.038679</td>\n",
              "      <td>0.577129</td>\n",
              "      <td>0.250073</td>\n",
              "      <td>-0.158525</td>\n",
              "      <td>0.580048</td>\n",
              "      <td>-0.306761</td>\n",
              "      <td>-0.068993</td>\n",
              "      <td>-0.072521</td>\n",
              "      <td>-0.084770</td>\n",
              "      <td>0.311180</td>\n",
              "      <td>-0.437765</td>\n",
              "      <td>-0.075946</td>\n",
              "      <td>0.452460</td>\n",
              "      <td>-0.063126</td>\n",
              "      <td>0.123046</td>\n",
              "      <td>-0.228126</td>\n",
              "      <td>0.032337</td>\n",
              "      <td>-0.102951</td>\n",
              "      <td>0.097082</td>\n",
              "      <td>0.038952</td>\n",
              "      <td>0.251616</td>\n",
              "      <td>-0.018778</td>\n",
              "      <td>-0.390548</td>\n",
              "      <td>0.119503</td>\n",
              "      <td>-0.223295</td>\n",
              "      <td>0.188375</td>\n",
              "      <td>-0.062489</td>\n",
              "      <td>-0.206403</td>\n",
              "      <td>-0.206909</td>\n",
              "      <td>0.318654</td>\n",
              "      <td>-0.174199</td>\n",
              "      <td>0.153232</td>\n",
              "      <td>-0.067777</td>\n",
              "      <td>0.100945</td>\n",
              "      <td>-0.018025</td>\n",
              "      <td>...</td>\n",
              "      <td>0.255081</td>\n",
              "      <td>0.310508</td>\n",
              "      <td>-0.236702</td>\n",
              "      <td>-0.023748</td>\n",
              "      <td>0.277275</td>\n",
              "      <td>0.138666</td>\n",
              "      <td>-0.337798</td>\n",
              "      <td>0.299208</td>\n",
              "      <td>-0.147279</td>\n",
              "      <td>-0.114312</td>\n",
              "      <td>-0.276407</td>\n",
              "      <td>-0.449589</td>\n",
              "      <td>0.375847</td>\n",
              "      <td>0.348505</td>\n",
              "      <td>-0.234384</td>\n",
              "      <td>0.163485</td>\n",
              "      <td>-0.345952</td>\n",
              "      <td>-0.236704</td>\n",
              "      <td>-0.197653</td>\n",
              "      <td>0.034090</td>\n",
              "      <td>0.080300</td>\n",
              "      <td>0.029046</td>\n",
              "      <td>0.362189</td>\n",
              "      <td>-0.105524</td>\n",
              "      <td>0.209593</td>\n",
              "      <td>-0.063984</td>\n",
              "      <td>-0.093129</td>\n",
              "      <td>0.401526</td>\n",
              "      <td>-0.165294</td>\n",
              "      <td>0.166042</td>\n",
              "      <td>0.423213</td>\n",
              "      <td>0.011831</td>\n",
              "      <td>0.301912</td>\n",
              "      <td>0.155715</td>\n",
              "      <td>0.180108</td>\n",
              "      <td>0.560152</td>\n",
              "      <td>0.053696</td>\n",
              "      <td>-0.084605</td>\n",
              "      <td>-0.258435</td>\n",
              "      <td>1</td>\n",
              "    </tr>\n",
              "    <tr>\n",
              "      <th>3</th>\n",
              "      <td>0.727737</td>\n",
              "      <td>0.266512</td>\n",
              "      <td>3.927508</td>\n",
              "      <td>-0.007201</td>\n",
              "      <td>-1.733994</td>\n",
              "      <td>1.599379</td>\n",
              "      <td>3.017414</td>\n",
              "      <td>0.124803</td>\n",
              "      <td>0.798537</td>\n",
              "      <td>4.439755</td>\n",
              "      <td>-3.056595</td>\n",
              "      <td>1.926590</td>\n",
              "      <td>-0.953367</td>\n",
              "      <td>-0.899965</td>\n",
              "      <td>2.215559</td>\n",
              "      <td>-1.543651</td>\n",
              "      <td>-0.667570</td>\n",
              "      <td>2.776030</td>\n",
              "      <td>-1.332443</td>\n",
              "      <td>-0.099933</td>\n",
              "      <td>-2.126801</td>\n",
              "      <td>1.593484</td>\n",
              "      <td>-0.548350</td>\n",
              "      <td>0.213622</td>\n",
              "      <td>0.767148</td>\n",
              "      <td>1.112745</td>\n",
              "      <td>-1.117006</td>\n",
              "      <td>-0.570105</td>\n",
              "      <td>-0.905657</td>\n",
              "      <td>0.296386</td>\n",
              "      <td>3.816000</td>\n",
              "      <td>0.751400</td>\n",
              "      <td>0.706674</td>\n",
              "      <td>-0.781202</td>\n",
              "      <td>0.604422</td>\n",
              "      <td>-3.772844</td>\n",
              "      <td>1.733816</td>\n",
              "      <td>-0.255198</td>\n",
              "      <td>0.568314</td>\n",
              "      <td>-1.801492</td>\n",
              "      <td>...</td>\n",
              "      <td>-2.263100</td>\n",
              "      <td>-0.479562</td>\n",
              "      <td>-0.056791</td>\n",
              "      <td>-0.344183</td>\n",
              "      <td>1.973022</td>\n",
              "      <td>-1.856318</td>\n",
              "      <td>0.901286</td>\n",
              "      <td>-0.880696</td>\n",
              "      <td>-1.375705</td>\n",
              "      <td>-4.713405</td>\n",
              "      <td>-0.425148</td>\n",
              "      <td>-3.208520</td>\n",
              "      <td>1.911098</td>\n",
              "      <td>0.331582</td>\n",
              "      <td>-0.422985</td>\n",
              "      <td>1.159014</td>\n",
              "      <td>0.531821</td>\n",
              "      <td>-2.643800</td>\n",
              "      <td>-3.730640</td>\n",
              "      <td>0.103521</td>\n",
              "      <td>0.383324</td>\n",
              "      <td>1.856357</td>\n",
              "      <td>5.253921</td>\n",
              "      <td>2.196033</td>\n",
              "      <td>1.579790</td>\n",
              "      <td>-1.145417</td>\n",
              "      <td>-5.926458</td>\n",
              "      <td>2.267905</td>\n",
              "      <td>-1.437368</td>\n",
              "      <td>0.700096</td>\n",
              "      <td>4.099156</td>\n",
              "      <td>2.360307</td>\n",
              "      <td>5.032474</td>\n",
              "      <td>3.503649</td>\n",
              "      <td>5.204229</td>\n",
              "      <td>6.657978</td>\n",
              "      <td>3.595673</td>\n",
              "      <td>0.361933</td>\n",
              "      <td>-0.233039</td>\n",
              "      <td>24</td>\n",
              "    </tr>\n",
              "    <tr>\n",
              "      <th>4</th>\n",
              "      <td>1.457495</td>\n",
              "      <td>1.417232</td>\n",
              "      <td>1.500198</td>\n",
              "      <td>0.608155</td>\n",
              "      <td>0.399805</td>\n",
              "      <td>0.393475</td>\n",
              "      <td>1.373795</td>\n",
              "      <td>1.255143</td>\n",
              "      <td>0.560537</td>\n",
              "      <td>1.230263</td>\n",
              "      <td>-2.300946</td>\n",
              "      <td>0.733550</td>\n",
              "      <td>-1.034870</td>\n",
              "      <td>-0.852779</td>\n",
              "      <td>1.224370</td>\n",
              "      <td>-1.676055</td>\n",
              "      <td>0.440998</td>\n",
              "      <td>1.475052</td>\n",
              "      <td>-0.076842</td>\n",
              "      <td>0.357225</td>\n",
              "      <td>-0.283616</td>\n",
              "      <td>-0.655688</td>\n",
              "      <td>-0.486941</td>\n",
              "      <td>-0.170794</td>\n",
              "      <td>1.102354</td>\n",
              "      <td>0.226529</td>\n",
              "      <td>0.497193</td>\n",
              "      <td>-1.544128</td>\n",
              "      <td>-0.124655</td>\n",
              "      <td>0.380814</td>\n",
              "      <td>1.228967</td>\n",
              "      <td>0.867821</td>\n",
              "      <td>-0.882223</td>\n",
              "      <td>-0.769478</td>\n",
              "      <td>0.678540</td>\n",
              "      <td>-0.941289</td>\n",
              "      <td>0.459944</td>\n",
              "      <td>-0.411797</td>\n",
              "      <td>1.178867</td>\n",
              "      <td>-1.777238</td>\n",
              "      <td>...</td>\n",
              "      <td>-0.879865</td>\n",
              "      <td>0.229010</td>\n",
              "      <td>-1.396401</td>\n",
              "      <td>-1.308155</td>\n",
              "      <td>2.307144</td>\n",
              "      <td>-1.382360</td>\n",
              "      <td>-0.371145</td>\n",
              "      <td>-0.194674</td>\n",
              "      <td>-0.962334</td>\n",
              "      <td>-0.336597</td>\n",
              "      <td>-1.712055</td>\n",
              "      <td>-2.428956</td>\n",
              "      <td>1.264139</td>\n",
              "      <td>1.141794</td>\n",
              "      <td>-0.478963</td>\n",
              "      <td>0.264820</td>\n",
              "      <td>0.731122</td>\n",
              "      <td>-0.643279</td>\n",
              "      <td>-0.762760</td>\n",
              "      <td>-0.160006</td>\n",
              "      <td>0.340610</td>\n",
              "      <td>-0.101448</td>\n",
              "      <td>1.366451</td>\n",
              "      <td>1.567876</td>\n",
              "      <td>-0.002487</td>\n",
              "      <td>-0.510654</td>\n",
              "      <td>-1.699781</td>\n",
              "      <td>-0.216148</td>\n",
              "      <td>-0.403471</td>\n",
              "      <td>0.382961</td>\n",
              "      <td>1.928186</td>\n",
              "      <td>0.538187</td>\n",
              "      <td>1.497088</td>\n",
              "      <td>0.753293</td>\n",
              "      <td>0.671870</td>\n",
              "      <td>2.164219</td>\n",
              "      <td>1.711915</td>\n",
              "      <td>0.289338</td>\n",
              "      <td>-0.058040</td>\n",
              "      <td>8</td>\n",
              "    </tr>\n",
              "  </tbody>\n",
              "</table>\n",
              "<p>5 rows × 101 columns</p>\n",
              "</div>"
            ],
            "text/plain": [
              "          0         1         2  ...        98        99  spamcount\n",
              "0  0.244401  3.780029 -1.060506  ...  3.494969  1.504424         44\n",
              "1  1.575464  0.336648  1.428485  ...  1.037125  0.565125          3\n",
              "2  0.139682  0.545045  0.318559  ... -0.084605 -0.258435          1\n",
              "3  0.727737  0.266512  3.927508  ...  0.361933 -0.233039         24\n",
              "4  1.457495  1.417232  1.500198  ...  0.289338 -0.058040          8\n",
              "\n",
              "[5 rows x 101 columns]"
            ]
          },
          "metadata": {
            "tags": []
          },
          "execution_count": 13
        }
      ]
    },
    {
      "cell_type": "code",
      "metadata": {
        "id": "fMWHgKsdsaOi",
        "colab_type": "code",
        "colab": {}
      },
      "source": [
        "from sklearn.ensemble import RandomForestClassifier\n",
        "from sklearn.linear_model import LogisticRegression\n",
        "from sklearn.svm import SVC\n",
        "from sklearn.tree import DecisionTreeClassifier\n",
        "from sklearn.naive_bayes import GaussianNB\n",
        "from sklearn.neural_network import MLPClassifier\n",
        "from sklearn.metrics import accuracy_score"
      ],
      "execution_count": 0,
      "outputs": []
    },
    {
      "cell_type": "code",
      "metadata": {
        "id": "nc_SXbVItF4Q",
        "colab_type": "code",
        "outputId": "4279f7b5-f4d6-4b84-fa2b-d97c2dd58a74",
        "colab": {
          "base_uri": "https://localhost:8080/",
          "height": 153
        }
      },
      "source": [
        "rf = RandomForestClassifier(max_depth=10, random_state=0)\n",
        "rf.fit(df,label_train)"
      ],
      "execution_count": 0,
      "outputs": [
        {
          "output_type": "execute_result",
          "data": {
            "text/plain": [
              "RandomForestClassifier(bootstrap=True, ccp_alpha=0.0, class_weight=None,\n",
              "                       criterion='gini', max_depth=10, max_features='auto',\n",
              "                       max_leaf_nodes=None, max_samples=None,\n",
              "                       min_impurity_decrease=0.0, min_impurity_split=None,\n",
              "                       min_samples_leaf=1, min_samples_split=2,\n",
              "                       min_weight_fraction_leaf=0.0, n_estimators=100,\n",
              "                       n_jobs=None, oob_score=False, random_state=0, verbose=0,\n",
              "                       warm_start=False)"
            ]
          },
          "metadata": {
            "tags": []
          },
          "execution_count": 15
        }
      ]
    },
    {
      "cell_type": "code",
      "metadata": {
        "id": "ZRNrdrO6N-5n",
        "colab_type": "code",
        "outputId": "379f0315-d625-4f59-94d7-3276e0fd13ff",
        "colab": {
          "base_uri": "https://localhost:8080/",
          "height": 238
        }
      },
      "source": [
        "lr = LogisticRegression(random_state=0)\n",
        "lr.fit(df,label_train)"
      ],
      "execution_count": 0,
      "outputs": [
        {
          "output_type": "stream",
          "text": [
            "/usr/local/lib/python3.6/dist-packages/sklearn/linear_model/_logistic.py:940: ConvergenceWarning: lbfgs failed to converge (status=1):\n",
            "STOP: TOTAL NO. of ITERATIONS REACHED LIMIT.\n",
            "\n",
            "Increase the number of iterations (max_iter) or scale the data as shown in:\n",
            "    https://scikit-learn.org/stable/modules/preprocessing.html\n",
            "Please also refer to the documentation for alternative solver options:\n",
            "    https://scikit-learn.org/stable/modules/linear_model.html#logistic-regression\n",
            "  extra_warning_msg=_LOGISTIC_SOLVER_CONVERGENCE_MSG)\n"
          ],
          "name": "stderr"
        },
        {
          "output_type": "execute_result",
          "data": {
            "text/plain": [
              "LogisticRegression(C=1.0, class_weight=None, dual=False, fit_intercept=True,\n",
              "                   intercept_scaling=1, l1_ratio=None, max_iter=100,\n",
              "                   multi_class='auto', n_jobs=None, penalty='l2',\n",
              "                   random_state=0, solver='lbfgs', tol=0.0001, verbose=0,\n",
              "                   warm_start=False)"
            ]
          },
          "metadata": {
            "tags": []
          },
          "execution_count": 16
        }
      ]
    },
    {
      "cell_type": "code",
      "metadata": {
        "id": "x-23wNoBRnsB",
        "colab_type": "code",
        "outputId": "8e0a3fd6-7f16-4003-ae60-c92122f64a0c",
        "colab": {
          "base_uri": "https://localhost:8080/",
          "height": 85
        }
      },
      "source": [
        "sv = SVC()\n",
        "sv.fit(df,label_train)"
      ],
      "execution_count": 0,
      "outputs": [
        {
          "output_type": "execute_result",
          "data": {
            "text/plain": [
              "SVC(C=1.0, break_ties=False, cache_size=200, class_weight=None, coef0=0.0,\n",
              "    decision_function_shape='ovr', degree=3, gamma='scale', kernel='rbf',\n",
              "    max_iter=-1, probability=False, random_state=None, shrinking=True,\n",
              "    tol=0.001, verbose=False)"
            ]
          },
          "metadata": {
            "tags": []
          },
          "execution_count": 17
        }
      ]
    },
    {
      "cell_type": "code",
      "metadata": {
        "id": "ppvgYDUPlY7f",
        "colab_type": "code",
        "outputId": "e2909d8a-4765-4195-aa85-982e29620b66",
        "colab": {
          "base_uri": "https://localhost:8080/",
          "height": 119
        }
      },
      "source": [
        "dt = DecisionTreeClassifier(max_depth=10)\n",
        "dt.fit(df,label_train)"
      ],
      "execution_count": 0,
      "outputs": [
        {
          "output_type": "execute_result",
          "data": {
            "text/plain": [
              "DecisionTreeClassifier(ccp_alpha=0.0, class_weight=None, criterion='gini',\n",
              "                       max_depth=10, max_features=None, max_leaf_nodes=None,\n",
              "                       min_impurity_decrease=0.0, min_impurity_split=None,\n",
              "                       min_samples_leaf=1, min_samples_split=2,\n",
              "                       min_weight_fraction_leaf=0.0, presort='deprecated',\n",
              "                       random_state=None, splitter='best')"
            ]
          },
          "metadata": {
            "tags": []
          },
          "execution_count": 29
        }
      ]
    },
    {
      "cell_type": "code",
      "metadata": {
        "id": "h6Dc5gV9lZEm",
        "colab_type": "code",
        "outputId": "b5c05f37-3aea-477c-ae8a-984f94d381dd",
        "colab": {
          "base_uri": "https://localhost:8080/",
          "height": 34
        }
      },
      "source": [
        "nb = GaussianNB()\n",
        "nb.fit(df,label_train)"
      ],
      "execution_count": 0,
      "outputs": [
        {
          "output_type": "execute_result",
          "data": {
            "text/plain": [
              "GaussianNB(priors=None, var_smoothing=1e-09)"
            ]
          },
          "metadata": {
            "tags": []
          },
          "execution_count": 19
        }
      ]
    },
    {
      "cell_type": "code",
      "metadata": {
        "id": "ZImslWIPlZPR",
        "colab_type": "code",
        "outputId": "55fb229b-49a6-4bbc-dae0-f3b176bf6e3e",
        "colab": {
          "base_uri": "https://localhost:8080/",
          "height": 153
        }
      },
      "source": [
        "mlp = MLPClassifier(solver='lbfgs', alpha=1e-5,hidden_layer_sizes=(5, 5), random_state=1)\n",
        "mlp.fit(df,label_train)"
      ],
      "execution_count": 0,
      "outputs": [
        {
          "output_type": "execute_result",
          "data": {
            "text/plain": [
              "MLPClassifier(activation='relu', alpha=1e-05, batch_size='auto', beta_1=0.9,\n",
              "              beta_2=0.999, early_stopping=False, epsilon=1e-08,\n",
              "              hidden_layer_sizes=(5, 5), learning_rate='constant',\n",
              "              learning_rate_init=0.001, max_fun=15000, max_iter=200,\n",
              "              momentum=0.9, n_iter_no_change=10, nesterovs_momentum=True,\n",
              "              power_t=0.5, random_state=1, shuffle=True, solver='lbfgs',\n",
              "              tol=0.0001, validation_fraction=0.1, verbose=False,\n",
              "              warm_start=False)"
            ]
          },
          "metadata": {
            "tags": []
          },
          "execution_count": 27
        }
      ]
    },
    {
      "cell_type": "code",
      "metadata": {
        "id": "ZUjBeXb4tse7",
        "colab_type": "code",
        "outputId": "b9a6f226-cf4a-4a39-8c24-382ba6f25c51",
        "colab": {
          "base_uri": "https://localhost:8080/",
          "height": 34
        }
      },
      "source": [
        "test_predict_rf = rf.predict(df_test)\n",
        "accuracy_score(test_predict_rf,label_test)"
      ],
      "execution_count": 0,
      "outputs": [
        {
          "output_type": "execute_result",
          "data": {
            "text/plain": [
              "0.8957528957528957"
            ]
          },
          "metadata": {
            "tags": []
          },
          "execution_count": 21
        }
      ]
    },
    {
      "cell_type": "code",
      "metadata": {
        "id": "tc4AoppjMg5d",
        "colab_type": "code",
        "outputId": "298f678e-0cac-40e6-90d0-4da82ac0e241",
        "colab": {
          "base_uri": "https://localhost:8080/",
          "height": 34
        }
      },
      "source": [
        "test_predict_lr = lr.predict(df_test)\n",
        "accuracy_score(test_predict_lr,label_test)"
      ],
      "execution_count": 0,
      "outputs": [
        {
          "output_type": "execute_result",
          "data": {
            "text/plain": [
              "0.944015444015444"
            ]
          },
          "metadata": {
            "tags": []
          },
          "execution_count": 22
        }
      ]
    },
    {
      "cell_type": "code",
      "metadata": {
        "id": "PvQNtinCTBub",
        "colab_type": "code",
        "outputId": "79854b55-36b2-4f90-8416-644406dd3550",
        "colab": {
          "base_uri": "https://localhost:8080/",
          "height": 34
        }
      },
      "source": [
        "test_predict_sv = sv.predict(df_test)\n",
        "accuracy_score(test_predict_sv,label_test)"
      ],
      "execution_count": 0,
      "outputs": [
        {
          "output_type": "execute_result",
          "data": {
            "text/plain": [
              "0.9305019305019305"
            ]
          },
          "metadata": {
            "tags": []
          },
          "execution_count": 23
        }
      ]
    },
    {
      "cell_type": "code",
      "metadata": {
        "id": "0cDweVAtlziY",
        "colab_type": "code",
        "outputId": "140d8b77-f8f7-466c-bffd-764120a20f1b",
        "colab": {
          "base_uri": "https://localhost:8080/",
          "height": 34
        }
      },
      "source": [
        "test_predict_dt = dt.predict(df_test)\n",
        "accuracy_score(test_predict_dt,label_test)"
      ],
      "execution_count": 0,
      "outputs": [
        {
          "output_type": "execute_result",
          "data": {
            "text/plain": [
              "0.7741312741312741"
            ]
          },
          "metadata": {
            "tags": []
          },
          "execution_count": 30
        }
      ]
    },
    {
      "cell_type": "code",
      "metadata": {
        "id": "RjDTG-MGlztK",
        "colab_type": "code",
        "outputId": "a056ce1d-6383-490b-8700-ff02fc3bb200",
        "colab": {
          "base_uri": "https://localhost:8080/",
          "height": 34
        }
      },
      "source": [
        "test_predict_nb = nb.predict(df_test)\n",
        "accuracy_score(test_predict_nb,label_test)"
      ],
      "execution_count": 0,
      "outputs": [
        {
          "output_type": "execute_result",
          "data": {
            "text/plain": [
              "0.7297297297297297"
            ]
          },
          "metadata": {
            "tags": []
          },
          "execution_count": 31
        }
      ]
    },
    {
      "cell_type": "code",
      "metadata": {
        "id": "dQAmrl2Wlz18",
        "colab_type": "code",
        "outputId": "f36bca6d-4a0e-4d2e-cd5d-263b15b8b37a",
        "colab": {
          "base_uri": "https://localhost:8080/",
          "height": 34
        }
      },
      "source": [
        "test_predict_mlp = mlp.predict(df_test)\n",
        "accuracy_score(test_predict_mlp,label_test)"
      ],
      "execution_count": 0,
      "outputs": [
        {
          "output_type": "execute_result",
          "data": {
            "text/plain": [
              "0.9401544401544402"
            ]
          },
          "metadata": {
            "tags": []
          },
          "execution_count": 28
        }
      ]
    },
    {
      "cell_type": "code",
      "metadata": {
        "id": "ZtBPBud-oafW",
        "colab_type": "code",
        "outputId": "96f172e7-7837-43fc-e406-fdf80720b8ed",
        "colab": {
          "base_uri": "https://localhost:8080/",
          "height": 71
        }
      },
      "source": [
        "correctly_classified = 0\n",
        "incorrect_spam = 0\n",
        "incorrect_ham = 0\n",
        "for text, label in zip(data_test, label_test):\n",
        "  mail_text = word_tokenize(text.lower())\n",
        "  mail_vector = model.infer_vector(mail_text)\n",
        "  predicted_label = model.docvecs.most_similar([mail_vector], topn = 1)\n",
        "  predicted_label = predicted_label[0][0]\n",
        "  if predicted_label == label:\n",
        "    correctly_classified += 1\n",
        "  elif label == \"spam\":\n",
        "    incorrect_spam += 1\n",
        "  else:\n",
        "    incorrect_ham += 1\n"
      ],
      "execution_count": 0,
      "outputs": [
        {
          "output_type": "stream",
          "text": [
            "/usr/local/lib/python3.6/dist-packages/gensim/matutils.py:737: FutureWarning: Conversion of the second argument of issubdtype from `int` to `np.signedinteger` is deprecated. In future, it will be treated as `np.int64 == np.dtype(int).type`.\n",
            "  if np.issubdtype(vec.dtype, np.int):\n"
          ],
          "name": "stderr"
        }
      ]
    },
    {
      "cell_type": "code",
      "metadata": {
        "id": "dQk_RnIHqOn4",
        "colab_type": "code",
        "outputId": "360f6692-9bf0-4b24-aaf4-55cb8105cfee",
        "colab": {
          "base_uri": "https://localhost:8080/",
          "height": 68
        }
      },
      "source": [
        "print(\"Correct = \" + str(correctly_classified))\n",
        "print(\"Wrong Spam = \" + str(incorrect_spam))\n",
        "print(\"Wrong Ham = \" + str(incorrect_ham))"
      ],
      "execution_count": 0,
      "outputs": [
        {
          "output_type": "stream",
          "text": [
            "Correct = 427\n",
            "Wrong Spam = 89\n",
            "Wrong Ham = 2\n"
          ],
          "name": "stdout"
        }
      ]
    },
    {
      "cell_type": "code",
      "metadata": {
        "id": "WvduEGCKr_N3",
        "colab_type": "code",
        "colab": {}
      },
      "source": [
        ""
      ],
      "execution_count": 0,
      "outputs": []
    },
    {
      "cell_type": "code",
      "metadata": {
        "id": "GpidPXuooao1",
        "colab_type": "code",
        "colab": {}
      },
      "source": [
        ""
      ],
      "execution_count": 0,
      "outputs": []
    }
  ]
}