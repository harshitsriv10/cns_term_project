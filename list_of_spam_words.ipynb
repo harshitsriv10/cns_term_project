{
  "nbformat": 4,
  "nbformat_minor": 0,
  "metadata": {
    "colab": {
      "name": "list_of_spam_words.ipynb",
      "provenance": []
    },
    "kernelspec": {
      "name": "python3",
      "display_name": "Python 3"
    }
  },
  "cells": [
    {
      "cell_type": "code",
      "metadata": {
        "id": "qzjavYFCS1S5",
        "colab_type": "code",
        "outputId": "52e28702-35d0-4105-bd18-a4ee9de3aa96",
        "colab": {
          "base_uri": "https://localhost:8080/",
          "height": 102
        }
      },
      "source": [
        "from nltk.tokenize import word_tokenize\n",
        "import pandas as pd\n",
        "from sklearn.model_selection import train_test_split\n",
        "import nltk\n",
        "from nltk.corpus import stopwords\n",
        "nltk.download('punkt')\n",
        "nltk.download('stopwords') "
      ],
      "execution_count": 0,
      "outputs": [
        {
          "output_type": "stream",
          "text": [
            "[nltk_data] Downloading package punkt to /root/nltk_data...\n",
            "[nltk_data]   Package punkt is already up-to-date!\n",
            "[nltk_data] Downloading package stopwords to /root/nltk_data...\n",
            "[nltk_data]   Unzipping corpora/stopwords.zip.\n"
          ],
          "name": "stdout"
        },
        {
          "output_type": "execute_result",
          "data": {
            "text/plain": [
              "True"
            ]
          },
          "metadata": {
            "tags": []
          },
          "execution_count": 29
        }
      ]
    },
    {
      "cell_type": "code",
      "metadata": {
        "id": "jaIWi9OaS_ue",
        "colab_type": "code",
        "outputId": "85f9b264-e1bc-46c8-8c1c-08e645a5222e",
        "colab": {
          "base_uri": "https://localhost:8080/",
          "height": 204
        }
      },
      "source": [
        "mails = pd.read_csv(\"/content/spam_ham_dataset.csv\", header=0)\n",
        "mails.head()"
      ],
      "execution_count": 0,
      "outputs": [
        {
          "output_type": "execute_result",
          "data": {
            "text/html": [
              "<div>\n",
              "<style scoped>\n",
              "    .dataframe tbody tr th:only-of-type {\n",
              "        vertical-align: middle;\n",
              "    }\n",
              "\n",
              "    .dataframe tbody tr th {\n",
              "        vertical-align: top;\n",
              "    }\n",
              "\n",
              "    .dataframe thead th {\n",
              "        text-align: right;\n",
              "    }\n",
              "</style>\n",
              "<table border=\"1\" class=\"dataframe\">\n",
              "  <thead>\n",
              "    <tr style=\"text-align: right;\">\n",
              "      <th></th>\n",
              "      <th>Unnamed: 0</th>\n",
              "      <th>label</th>\n",
              "      <th>text</th>\n",
              "      <th>label_num</th>\n",
              "    </tr>\n",
              "  </thead>\n",
              "  <tbody>\n",
              "    <tr>\n",
              "      <th>0</th>\n",
              "      <td>605</td>\n",
              "      <td>ham</td>\n",
              "      <td>Subject: enron methanol ; meter # : 988291\\r\\n...</td>\n",
              "      <td>0</td>\n",
              "    </tr>\n",
              "    <tr>\n",
              "      <th>1</th>\n",
              "      <td>2349</td>\n",
              "      <td>ham</td>\n",
              "      <td>Subject: hpl nom for january 9 , 2001\\r\\n( see...</td>\n",
              "      <td>0</td>\n",
              "    </tr>\n",
              "    <tr>\n",
              "      <th>2</th>\n",
              "      <td>3624</td>\n",
              "      <td>ham</td>\n",
              "      <td>Subject: neon retreat\\r\\nho ho ho , we ' re ar...</td>\n",
              "      <td>0</td>\n",
              "    </tr>\n",
              "    <tr>\n",
              "      <th>3</th>\n",
              "      <td>4685</td>\n",
              "      <td>spam</td>\n",
              "      <td>Subject: photoshop , windows , office . cheap ...</td>\n",
              "      <td>1</td>\n",
              "    </tr>\n",
              "    <tr>\n",
              "      <th>4</th>\n",
              "      <td>2030</td>\n",
              "      <td>ham</td>\n",
              "      <td>Subject: re : indian springs\\r\\nthis deal is t...</td>\n",
              "      <td>0</td>\n",
              "    </tr>\n",
              "  </tbody>\n",
              "</table>\n",
              "</div>"
            ],
            "text/plain": [
              "   Unnamed: 0  ... label_num\n",
              "0         605  ...         0\n",
              "1        2349  ...         0\n",
              "2        3624  ...         0\n",
              "3        4685  ...         1\n",
              "4        2030  ...         0\n",
              "\n",
              "[5 rows x 4 columns]"
            ]
          },
          "metadata": {
            "tags": []
          },
          "execution_count": 5
        }
      ]
    },
    {
      "cell_type": "code",
      "metadata": {
        "id": "wYHScqAdTOG6",
        "colab_type": "code",
        "colab": {}
      },
      "source": [
        "data_train, data_test, label_train, label_test = train_test_split(mails['text'], mails['label'],test_size=.10)"
      ],
      "execution_count": 0,
      "outputs": []
    },
    {
      "cell_type": "code",
      "metadata": {
        "id": "Tk4OhCJxTPVW",
        "colab_type": "code",
        "colab": {}
      },
      "source": [
        "word_count = {}\n",
        "stop_words = set(stopwords.words('english')) \n",
        "\n",
        "for data, label in zip(data_train, label_train):\n",
        "  if label == \"ham\":\n",
        "    continue\n",
        "  words = word_tokenize(data)\n",
        "  for word in words:\n",
        "    if word in stop_words:\n",
        "      continue\n",
        "    if not word.isalpha():\n",
        "      continue\n",
        "    if len(word) <= 1:\n",
        "      continue\n",
        "    if word in word_count.keys():\n",
        "      word_count[word] += 1\n",
        "    else:\n",
        "      word_count[word] = 1 "
      ],
      "execution_count": 0,
      "outputs": []
    },
    {
      "cell_type": "code",
      "metadata": {
        "id": "ufUAQNWBT2g1",
        "colab_type": "code",
        "colab": {}
      },
      "source": [
        "word_count = list(word_count.items())\n",
        "word_count.sort(key = lambda elem: elem[1], reverse=True)"
      ],
      "execution_count": 0,
      "outputs": []
    },
    {
      "cell_type": "code",
      "metadata": {
        "id": "EztzpLvCUbBe",
        "colab_type": "code",
        "outputId": "106dbb7a-8b65-4a85-af3f-2598dabe70ee",
        "colab": {
          "base_uri": "https://localhost:8080/",
          "height": 867
        }
      },
      "source": [
        "word_count[1:51]"
      ],
      "execution_count": 0,
      "outputs": [
        {
          "output_type": "execute_result",
          "data": {
            "text/plain": [
              "[('com', 925),\n",
              " ('http', 817),\n",
              " ('company', 646),\n",
              " ('www', 539),\n",
              " ('font', 482),\n",
              " ('information', 456),\n",
              " ('get', 444),\n",
              " ('please', 438),\n",
              " ('email', 432),\n",
              " ('price', 421),\n",
              " ('us', 416),\n",
              " ('statements', 408),\n",
              " ('nbsp', 392),\n",
              " ('new', 382),\n",
              " ('may', 375),\n",
              " ('one', 361),\n",
              " ('td', 326),\n",
              " ('time', 321),\n",
              " ('pills', 309),\n",
              " ('free', 285),\n",
              " ('size', 280),\n",
              " ('within', 274),\n",
              " ('message', 270),\n",
              " ('money', 270),\n",
              " ('stock', 256),\n",
              " ('height', 253),\n",
              " ('investment', 250),\n",
              " ('inc', 241),\n",
              " ('online', 237),\n",
              " ('report', 236),\n",
              " ('business', 232),\n",
              " ('best', 230),\n",
              " ('looking', 227),\n",
              " ('contact', 226),\n",
              " ('securities', 225),\n",
              " ('click', 223),\n",
              " ('computron', 222),\n",
              " ('like', 221),\n",
              " ('mail', 217),\n",
              " ('prices', 208),\n",
              " ('need', 207),\n",
              " ('products', 201),\n",
              " ('width', 201),\n",
              " ('future', 195),\n",
              " ('go', 194),\n",
              " ('software', 191),\n",
              " ('net', 191),\n",
              " ('color', 191),\n",
              " ('news', 189),\n",
              " ('face', 189)]"
            ]
          },
          "metadata": {
            "tags": []
          },
          "execution_count": 50
        }
      ]
    },
    {
      "cell_type": "code",
      "metadata": {
        "id": "Uea0DbkYVf0o",
        "colab_type": "code",
        "colab": {}
      },
      "source": [
        "list = []\n",
        "for word in word_count[1:51]:\n",
        "  list.append(word[0])"
      ],
      "execution_count": 0,
      "outputs": []
    },
    {
      "cell_type": "code",
      "metadata": {
        "id": "0zck3UoQXVZ6",
        "colab_type": "code",
        "colab": {}
      },
      "source": [
        "import json\n",
        "with open('data.json', 'w') as f:\n",
        "    json.dump(list, f)"
      ],
      "execution_count": 0,
      "outputs": []
    },
    {
      "cell_type": "code",
      "metadata": {
        "id": "uVXh03zWXYKT",
        "colab_type": "code",
        "colab": {}
      },
      "source": [
        ""
      ],
      "execution_count": 0,
      "outputs": []
    }
  ]
}